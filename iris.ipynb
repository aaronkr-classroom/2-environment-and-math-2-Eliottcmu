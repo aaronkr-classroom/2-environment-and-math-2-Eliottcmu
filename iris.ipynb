{
 "cells": [
  {
   "cell_type": "markdown",
   "id": "11123eca",
   "metadata": {},
   "source": [
    "# Markdown\n",
    "\n",
    "Write your own MD content from `slide 49`"
   ]
  },
  {
   "cell_type": "code",
   "execution_count": 9,
   "id": "f4ebab0d",
   "metadata": {},
   "outputs": [
    {
     "name": "stdout",
     "output_type": "stream",
     "text": [
      "Hello, Eliott!\n",
      "Hello, Eliott!\n",
      "- learn ML\n",
      "- learn DL\n",
      "- deeply learn DL\n",
      "Let's learn ML! \n"
     ]
    }
   ],
   "source": [
    "# 1. Hello Python\n",
    "name = \"Eliott\"\n",
    "goals = ['learn ML', 'learn DL', 'deeply learn DL']\n",
    "print(\"Hello,\", name + \"!\")\n",
    "print(\"Hello, \"+ name + \"!\")\n",
    "\n",
    "# for (1 starting point; 2 ending point; 4 next step;) {\n",
    "# 3 executing code;\n",
    "#}\n",
    "\n",
    "for g in goals : \n",
    "    print (\"-\", g)\n",
    "\n",
    "# if - elif - else\n",
    "if \"learn ML\" in goals :\n",
    "    print(\"Let's learn ML! \")"
   ]
  }
 ],
 "metadata": {
  "kernelspec": {
   "display_name": "Python 3",
   "language": "python",
   "name": "python3"
  },
  "language_info": {
   "codemirror_mode": {
    "name": "ipython",
    "version": 3
   },
   "file_extension": ".py",
   "mimetype": "text/x-python",
   "name": "python",
   "nbconvert_exporter": "python",
   "pygments_lexer": "ipython3",
   "version": "3.13.2"
  }
 },
 "nbformat": 4,
 "nbformat_minor": 5
}
